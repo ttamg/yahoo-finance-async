{
 "cells": [
  {
   "cell_type": "markdown",
   "metadata": {},
   "source": [
    "# Example of how to use the OHLC object\n",
    "\n",
    "This is an async library so there is a bit more boilerplate code to get the methods and coroutines running in your code. You should _await_ the response.\n"
   ]
  },
  {
   "cell_type": "code",
   "execution_count": 1,
   "metadata": {},
   "outputs": [],
   "source": [
    "import sys\n",
    "\n",
    "sys.path.insert(0, \"..\")"
   ]
  },
  {
   "cell_type": "markdown",
   "metadata": {},
   "source": [
    "## Getting started\n"
   ]
  },
  {
   "cell_type": "markdown",
   "metadata": {},
   "source": [
    "Let's suppose you want to get the last five days of daily candles on Microsoft _MSFT_ ...\n"
   ]
  },
  {
   "cell_type": "code",
   "execution_count": 2,
   "metadata": {
    "tags": []
   },
   "outputs": [
    {
     "data": {
      "text/plain": [
       "{'candles': [{'datetime': datetime.datetime(2025, 2, 14, 14, 30),\n",
       "   'open': 407.7900085449219,\n",
       "   'high': 408.9100036621094,\n",
       "   'low': 405.8800048828125,\n",
       "   'close': 408.42999267578125,\n",
       "   'volume': 22758500.0},\n",
       "  {'datetime': datetime.datetime(2025, 2, 18, 14, 30),\n",
       "   'open': 408.0,\n",
       "   'high': 410.6000061035156,\n",
       "   'low': 406.5,\n",
       "   'close': 409.6400146484375,\n",
       "   'volume': 21423100.0},\n",
       "  {'datetime': datetime.datetime(2025, 2, 19, 14, 30),\n",
       "   'open': 407.8800048828125,\n",
       "   'high': 415.489990234375,\n",
       "   'low': 407.6499938964844,\n",
       "   'close': 414.7699890136719,\n",
       "   'volume': 24114200.0},\n",
       "  {'datetime': datetime.datetime(2025, 2, 20, 14, 30),\n",
       "   'open': 415.2900085449219,\n",
       "   'high': 419.30999755859375,\n",
       "   'low': 412.5400085449219,\n",
       "   'close': 416.1300048828125,\n",
       "   'volume': 23508700.0},\n",
       "  {'datetime': datetime.datetime(2025, 2, 21, 14, 30),\n",
       "   'open': 417.3399963378906,\n",
       "   'high': 418.04998779296875,\n",
       "   'low': 407.8900146484375,\n",
       "   'close': 408.2099914550781,\n",
       "   'volume': 27448200.0}],\n",
       " 'meta': {'currency': 'USD',\n",
       "  'symbol': 'MSFT',\n",
       "  'exchangeName': 'NMS',\n",
       "  'fullExchangeName': 'NasdaqGS',\n",
       "  'instrumentType': 'EQUITY',\n",
       "  'firstTradeDate': 511108200,\n",
       "  'regularMarketTime': 1740171601,\n",
       "  'hasPrePostMarketData': True,\n",
       "  'gmtoffset': -18000,\n",
       "  'timezone': 'EST',\n",
       "  'exchangeTimezoneName': 'America/New_York',\n",
       "  'regularMarketPrice': 408.29,\n",
       "  'fiftyTwoWeekHigh': 468.35,\n",
       "  'fiftyTwoWeekLow': 385.58,\n",
       "  'regularMarketDayHigh': 418.048,\n",
       "  'regularMarketDayLow': 407.89,\n",
       "  'regularMarketVolume': 27524799,\n",
       "  'longName': 'Microsoft Corporation',\n",
       "  'shortName': 'Microsoft Corporation',\n",
       "  'chartPreviousClose': 410.54,\n",
       "  'priceHint': 2,\n",
       "  'currentTradingPeriod': {'pre': {'timezone': 'EST',\n",
       "    'end': 1740407400,\n",
       "    'start': 1740387600,\n",
       "    'gmtoffset': -18000},\n",
       "   'regular': {'timezone': 'EST',\n",
       "    'end': 1740430800,\n",
       "    'start': 1740407400,\n",
       "    'gmtoffset': -18000},\n",
       "   'post': {'timezone': 'EST',\n",
       "    'end': 1740445200,\n",
       "    'start': 1740430800,\n",
       "    'gmtoffset': -18000}},\n",
       "  'dataGranularity': '1d',\n",
       "  'range': '5d',\n",
       "  'validRanges': ['1d',\n",
       "   '5d',\n",
       "   '1mo',\n",
       "   '3mo',\n",
       "   '6mo',\n",
       "   '1y',\n",
       "   '2y',\n",
       "   '5y',\n",
       "   '10y',\n",
       "   'ytd',\n",
       "   'max']}}"
      ]
     },
     "execution_count": 2,
     "metadata": {},
     "output_type": "execute_result"
    }
   ],
   "source": [
    "# Import\n",
    "from yahoo_finance_async import OHLC, Interval, History\n",
    "\n",
    "# Fetch coroutine\n",
    "response = await OHLC.fetch(\"MSFT\", interval=Interval.DAY, history=History.FIVE_DAYS)\n",
    "response"
   ]
  },
  {
   "cell_type": "markdown",
   "metadata": {},
   "source": [
    "You will see that the main OHLC candles are returned as a list of candle dictionaries under the `candles` key in the response dictionary.\n",
    "\n",
    "**Note** that the most recent candle may have a slightly different timestamp as in the example below of the last candle which should be printing the open time 13:30 UTC but seems to be out of sync until it is closed. This is somethign that the Yahoo API gives and I have not tried to fix it.\n"
   ]
  },
  {
   "cell_type": "code",
   "execution_count": 3,
   "metadata": {},
   "outputs": [
    {
     "data": {
      "text/plain": [
       "[{'datetime': datetime.datetime(2025, 2, 14, 14, 30),\n",
       "  'open': 407.7900085449219,\n",
       "  'high': 408.9100036621094,\n",
       "  'low': 405.8800048828125,\n",
       "  'close': 408.42999267578125,\n",
       "  'volume': 22758500.0},\n",
       " {'datetime': datetime.datetime(2025, 2, 18, 14, 30),\n",
       "  'open': 408.0,\n",
       "  'high': 410.6000061035156,\n",
       "  'low': 406.5,\n",
       "  'close': 409.6400146484375,\n",
       "  'volume': 21423100.0},\n",
       " {'datetime': datetime.datetime(2025, 2, 19, 14, 30),\n",
       "  'open': 407.8800048828125,\n",
       "  'high': 415.489990234375,\n",
       "  'low': 407.6499938964844,\n",
       "  'close': 414.7699890136719,\n",
       "  'volume': 24114200.0},\n",
       " {'datetime': datetime.datetime(2025, 2, 20, 14, 30),\n",
       "  'open': 415.2900085449219,\n",
       "  'high': 419.30999755859375,\n",
       "  'low': 412.5400085449219,\n",
       "  'close': 416.1300048828125,\n",
       "  'volume': 23508700.0},\n",
       " {'datetime': datetime.datetime(2025, 2, 21, 14, 30),\n",
       "  'open': 417.3399963378906,\n",
       "  'high': 418.04998779296875,\n",
       "  'low': 407.8900146484375,\n",
       "  'close': 408.2099914550781,\n",
       "  'volume': 27448200.0}]"
      ]
     },
     "execution_count": 3,
     "metadata": {},
     "output_type": "execute_result"
    }
   ],
   "source": [
    "response[\"candles\"]"
   ]
  },
  {
   "cell_type": "markdown",
   "metadata": {},
   "source": [
    "The meta data for the API call is returned under the `meta` key in the response dictionary. This may be useful to confirm that you have indeed requested what you wanted.\n"
   ]
  },
  {
   "cell_type": "code",
   "execution_count": 4,
   "metadata": {},
   "outputs": [
    {
     "data": {
      "text/plain": [
       "{'currency': 'USD',\n",
       " 'symbol': 'MSFT',\n",
       " 'exchangeName': 'NMS',\n",
       " 'fullExchangeName': 'NasdaqGS',\n",
       " 'instrumentType': 'EQUITY',\n",
       " 'firstTradeDate': 511108200,\n",
       " 'regularMarketTime': 1740171601,\n",
       " 'hasPrePostMarketData': True,\n",
       " 'gmtoffset': -18000,\n",
       " 'timezone': 'EST',\n",
       " 'exchangeTimezoneName': 'America/New_York',\n",
       " 'regularMarketPrice': 408.29,\n",
       " 'fiftyTwoWeekHigh': 468.35,\n",
       " 'fiftyTwoWeekLow': 385.58,\n",
       " 'regularMarketDayHigh': 418.048,\n",
       " 'regularMarketDayLow': 407.89,\n",
       " 'regularMarketVolume': 27524799,\n",
       " 'longName': 'Microsoft Corporation',\n",
       " 'shortName': 'Microsoft Corporation',\n",
       " 'chartPreviousClose': 410.54,\n",
       " 'priceHint': 2,\n",
       " 'currentTradingPeriod': {'pre': {'timezone': 'EST',\n",
       "   'end': 1740407400,\n",
       "   'start': 1740387600,\n",
       "   'gmtoffset': -18000},\n",
       "  'regular': {'timezone': 'EST',\n",
       "   'end': 1740430800,\n",
       "   'start': 1740407400,\n",
       "   'gmtoffset': -18000},\n",
       "  'post': {'timezone': 'EST',\n",
       "   'end': 1740445200,\n",
       "   'start': 1740430800,\n",
       "   'gmtoffset': -18000}},\n",
       " 'dataGranularity': '1d',\n",
       " 'range': '5d',\n",
       " 'validRanges': ['1d',\n",
       "  '5d',\n",
       "  '1mo',\n",
       "  '3mo',\n",
       "  '6mo',\n",
       "  '1y',\n",
       "  '2y',\n",
       "  '5y',\n",
       "  '10y',\n",
       "  'ytd',\n",
       "  'max']}"
      ]
     },
     "execution_count": 4,
     "metadata": {},
     "output_type": "execute_result"
    }
   ],
   "source": [
    "response[\"meta\"]"
   ]
  },
  {
   "cell_type": "markdown",
   "metadata": {},
   "source": [
    "That's it. Very simple.\n"
   ]
  },
  {
   "cell_type": "markdown",
   "metadata": {},
   "source": [
    "## Requesting different symbols\n"
   ]
  },
  {
   "cell_type": "markdown",
   "metadata": {},
   "source": [
    "The Yahoo Finance API has a huge number of different stocks available on it.\n",
    "\n",
    "You can look up the stock symbols at https://finance.yahoo.com/lookup\n"
   ]
  },
  {
   "cell_type": "markdown",
   "metadata": {},
   "source": [
    "## Different candle periods and history\n"
   ]
  },
  {
   "cell_type": "markdown",
   "metadata": {},
   "source": [
    "The `Interval` object contains the different API options you can use for different candle lengths\n"
   ]
  },
  {
   "cell_type": "code",
   "execution_count": 5,
   "metadata": {},
   "outputs": [
    {
     "data": {
      "text/plain": [
       "<enum 'Interval'>"
      ]
     },
     "execution_count": 5,
     "metadata": {},
     "output_type": "execute_result"
    }
   ],
   "source": [
    "Interval"
   ]
  },
  {
   "cell_type": "code",
   "execution_count": 6,
   "metadata": {},
   "outputs": [
    {
     "data": {
      "text/plain": [
       "[('MINUTE', '1m'),\n",
       " ('TWO_MINUTE', '2m'),\n",
       " ('FIVE_MINUTE', '5m'),\n",
       " ('FIFTEEN_MINUTE', '15m'),\n",
       " ('THIRTY_MINUTE', '30m'),\n",
       " ('HOUR', '1h'),\n",
       " ('DAY', '1d'),\n",
       " ('FIVE_DAY', '5d'),\n",
       " ('WEEK', '1wk'),\n",
       " ('MONTH', '1mo'),\n",
       " ('THREE_MONTH', '3mo')]"
      ]
     },
     "execution_count": 6,
     "metadata": {},
     "output_type": "execute_result"
    }
   ],
   "source": [
    "[(e.name, e.value) for e in Interval]"
   ]
  },
  {
   "cell_type": "markdown",
   "metadata": {},
   "source": [
    "Similarly the `History` object shows the available look-back periods for collecting candle data. Note that some long history with short candle intervals may throw errors or return vast amounts of data. If in doubt and you want a lot of data, use the `History.MAX` option.\n"
   ]
  },
  {
   "cell_type": "code",
   "execution_count": 7,
   "metadata": {},
   "outputs": [
    {
     "data": {
      "text/plain": [
       "<enum 'History'>"
      ]
     },
     "execution_count": 7,
     "metadata": {},
     "output_type": "execute_result"
    }
   ],
   "source": [
    "History"
   ]
  },
  {
   "cell_type": "code",
   "execution_count": 8,
   "metadata": {},
   "outputs": [
    {
     "data": {
      "text/plain": [
       "[('DAY', '1d'),\n",
       " ('FIVE_DAYS', '5d'),\n",
       " ('MONTH', '1mo'),\n",
       " ('QUARTER', '3mo'),\n",
       " ('HALF_YEAR', '6mo'),\n",
       " ('YEAR', '1y'),\n",
       " ('TWO_YEARS', '2y'),\n",
       " ('FIVE_YEARS', '5y'),\n",
       " ('TEN_YEARS', '10y'),\n",
       " ('YTD', 'ytd'),\n",
       " ('MAX', 'max')]"
      ]
     },
     "execution_count": 8,
     "metadata": {},
     "output_type": "execute_result"
    }
   ],
   "source": [
    "[(e.name, e.value) for e in History]"
   ]
  },
  {
   "cell_type": "code",
   "execution_count": null,
   "metadata": {},
   "outputs": [],
   "source": []
  }
 ],
 "metadata": {
  "kernelspec": {
   "display_name": ".venv",
   "language": "python",
   "name": "python3"
  },
  "language_info": {
   "codemirror_mode": {
    "name": "ipython",
    "version": 3
   },
   "file_extension": ".py",
   "mimetype": "text/x-python",
   "name": "python",
   "nbconvert_exporter": "python",
   "pygments_lexer": "ipython3",
   "version": "3.10.14"
  },
  "orig_nbformat": 2
 },
 "nbformat": 4,
 "nbformat_minor": 2
}
